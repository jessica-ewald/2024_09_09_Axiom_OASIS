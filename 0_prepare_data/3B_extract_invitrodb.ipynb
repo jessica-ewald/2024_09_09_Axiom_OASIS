{
 "cells": [
  {
   "cell_type": "markdown",
   "metadata": {},
   "source": [
    "# Extract data from invitrodb "
   ]
  },
  {
   "cell_type": "code",
   "execution_count": 3,
   "metadata": {},
   "outputs": [],
   "source": [
    "from sqlalchemy import create_engine, inspect, text\n",
    "import polars as pl\n",
    "import gc"
   ]
  },
  {
   "cell_type": "code",
   "execution_count": null,
   "metadata": {},
   "outputs": [],
   "source": [
    "# 'intended target family' would be a cool way to subset the cell-free assay types\n",
    "# cell-free assays don't have paired viability assays (doesn't make sense for cellfree)\n",
    "# use \"cell_viability_assay\", not \"burst_assay\" because burst_assay misses some\n",
    "# Level 4 has the min / max concentration, plus number of concentrations tested\n",
    "\n",
    "# 1:1 relationship between components and endpoints\n",
    "# DECISION: treat bidirectional assays the same, with the motivation from MorphMap that knock-down/overexpression phenotypes are positively correlated"
   ]
  },
  {
   "cell_type": "markdown",
   "metadata": {},
   "source": [
    "## Get assay and endpoint information"
   ]
  },
  {
   "cell_type": "code",
   "execution_count": null,
   "metadata": {},
   "outputs": [],
   "source": [
    "# Get assays of interest\n",
    "engine = create_engine(\"mysql+pymysql://root@localhost/prod_internal_invitrodb_v4_1\")\n",
    "\n",
    "with engine.connect() as connection:\n",
    "    result = connection.execute(text(\"SELECT * FROM assay\"))\n",
    "    column_names = result.keys()\n",
    "    rows = result.fetchall()\n",
    "    rows = [list(row) for row in rows]\n",
    "    assay = pl.DataFrame(rows, schema=column_names)\n",
    "\n",
    "print(assay.shape)\n",
    "\n",
    "assay = assay.filter(pl.col(\"cell_format\") != \"whole embryo\")\n",
    "assay = assay.filter(pl.col(\"organism\") == \"human\")\n",
    "cell_assay = assay.filter(pl.col(\"cell_format\").is_in([\"cell-based\", \"cell line\", \"primary cell\", \"secondary cell\", \"primary cell co-culture\"]))\n",
    "cellfree_assay = assay.filter(pl.col(\"cell_format\").is_in([\"tissue-based cell-free\", \"cell-free\"]))\n",
    "\n",
    "# remove follow-up experiments\n",
    "cellfree_assay = cellfree_assay.filter(~pl.col(\"assay_name\").str.contains(\"Followup\"))\n",
    "cell_assay = cell_assay.filter(~pl.col(\"assay_name\").str.contains(\"Followup\"))\n",
    "cell_assay = cell_assay.filter(~pl.col(\"assay_name\").str.contains(\"TRANS\"))\n",
    "cell_assay = cell_assay.filter(~pl.col(\"assay_name\").str.contains(\"EcoTox\"))\n",
    "\n",
    "cell_assay = cell_assay.filter(~pl.col(\"assay_name\").is_in([\n",
    "    \"CLD_6hr\", \"CLD_24hr\", \"APR_HepG2_1hr\", \"APR_HepG2_72hr\"]\n",
    "    ))\n",
    "\n",
    "# get aid lists\n",
    "cell_aid = cell_assay.select(\"aid\").to_series().unique().to_list()\n",
    "cellfree_aid = cellfree_assay.select(\"aid\").to_series().unique().to_list()\n",
    "\n",
    "assay_keep = [\"aid\", \"timepoint_hr\", \"cell_format\", \"tissue\", \"cell_short_name\"]\n",
    "cell_assay = cell_assay.select(assay_keep)\n",
    "cellfree_assay = cellfree_assay.select(assay_keep)"
   ]
  },
  {
   "cell_type": "code",
   "execution_count": 67,
   "metadata": {},
   "outputs": [],
   "source": [
    "# Get assay components of interest\n",
    "engine = create_engine(\"mysql+pymysql://root@localhost/prod_internal_invitrodb_v4_1\")\n",
    "\n",
    "with engine.connect() as connection:\n",
    "    result = connection.execute(text(\"SELECT * FROM assay_component\"))\n",
    "    column_names = result.keys()\n",
    "    rows = result.fetchall()\n",
    "    rows = [list(row) for row in rows]\n",
    "    component = pl.DataFrame(rows, schema=column_names).drop([\n",
    "        \"detection_technology_type\", \"detection_technology_type_sub\", \"detection_technology\", \n",
    "        \"key_assay_reagent_type\", \"key_assay_reagent\", \"technological_target_type\", \"technological_target_type_sub\",\n",
    "        \"parameter_readout_type\", \"assay_component_target_desc\", \"assay_design_type_sub\", \"biological_process_target\"\n",
    "    ])\n",
    "\n",
    "component = component.filter(~pl.col(\"assay_component_name\").str.contains(\"_ch1\"))\n",
    "component = component.filter(~pl.col(\"assay_component_name\").str.contains(\"_ch2\"))\n",
    "component = component.filter(~pl.col(\"assay_component_name\").is_in([\n",
    "    \"TOX21_RT_HEPG2_FLO_00hr_viability\",\n",
    "    \"TOX21_RT_HEPG2_FLO_08hr_viability\",\n",
    "    \"TOX21_RT_HEPG2_FLO_16hr_viability\",\n",
    "    \"TOX21_RT_HEPG2_FLO_24hr_viability\",\n",
    "    \"TOX21_RT_HEPG2_FLO_32hr_viability\",\n",
    "    \"TOX21_RT_HEPG2_GLO_00hr_viability\",\n",
    "    \"TOX21_RT_HEPG2_GLO_08hr_viability\",\n",
    "    \"TOX21_RT_HEPG2_GLO_16hr_viability\",\n",
    "    \"TOX21_RT_HEPG2_GLO_24hr_viability\",\n",
    "    \"TOX21_RT_HEPG2_GLO_32hr_viability\",\n",
    "    \"TOX21_RT_HEK293_FLO_00hr_viability\",\n",
    "    \"TOX21_RT_HEK293_FLO_08hr_viability\",\n",
    "    \"TOX21_RT_HEK293_FLO_16hr_viability\",\n",
    "    \"TOX21_RT_HEK293_FLO_24hr_viability\",\n",
    "    \"TOX21_RT_HEK293_FLO_32hr_viability\",\n",
    "    \"TOX21_RT_HEK293_GLO_00hr_viability\",\n",
    "    \"TOX21_RT_HEK293_GLO_08hr_viability\",\n",
    "    \"TOX21_RT_HEK293_GLO_16hr_viability\",\n",
    "    \"TOX21_RT_HEK293_GLO_24hr_viability\",\n",
    "    \"TOX21_RT_HEK293_GLO_32hr_viability\",\n",
    "]))\n",
    "component = component.drop(\"assay_component_name\")\n",
    "\n",
    "\n",
    "cell_component = component.filter(pl.col(\"aid\").is_in(cell_aid))\n",
    "cell_component = cell_component.filter(pl.col(\"assay_design_type\") != \"background reporter\")\n",
    "\n",
    "# there is only one component per assay for the cell-free assays\n",
    "cellfree_component = component.filter(pl.col(\"aid\").is_in(cellfree_aid))\n",
    "\n",
    "cell_acid = cell_component.select(\"acid\").to_series().unique().to_list()\n",
    "cellfree_acid = cellfree_component.select(\"acid\").to_series().unique().to_list()\n"
   ]
  },
  {
   "cell_type": "code",
   "execution_count": 68,
   "metadata": {},
   "outputs": [],
   "source": [
    "# Get assay endpoints of interest\n",
    "engine = create_engine(\"mysql+pymysql://root@localhost/prod_internal_invitrodb_v4_1\")\n",
    "\n",
    "with engine.connect() as connection:\n",
    "    result = connection.execute(text(\"SELECT * FROM assay_component_endpoint\"))\n",
    "    column_names = result.keys()\n",
    "    rows = result.fetchall()\n",
    "    rows = [list(row) for row in rows]\n",
    "    endpoints = pl.DataFrame(rows, schema=column_names).drop([\n",
    "        \"export_ready\", \"internal_ready\", \"fit_all\", \"data_usability\", \"burst_assay\", \"key_positive_control\",\n",
    "        \"assay_component_endpoint_desc\"\n",
    "    ])\n",
    "\n",
    "endpoints = endpoints.filter(pl.col(\"assay_function_type\") != \"background control\")\n",
    "cell_endpoints = endpoints.filter(pl.col(\"acid\").is_in(cell_acid))\n",
    "cellfree_endpoints = endpoints.filter(pl.col(\"acid\").is_in(cellfree_acid))"
   ]
  },
  {
   "cell_type": "code",
   "execution_count": 69,
   "metadata": {},
   "outputs": [],
   "source": [
    "# join and re-order columns\n",
    "col_order = [\n",
    "    \"assay_component_endpoint_name\", \"assay_component_desc\",\n",
    "    \"cell_format\", \"tissue\", \"cell_short_name\", \"timepoint_hr\",\n",
    "    \"assay_design_type\", \"assay_function_type\", \"intended_target_type\", \"intended_target_type_sub\",\n",
    "    \"intended_target_family\", \"intended_target_family_sub\", \"normalized_data_type\", \"signal_direction\",\n",
    "    \"cell_viability_assay\", \"aid\", \"acid\", \"aeid\",\n",
    "]\n",
    "\n",
    "cell = cell_component.join(cell_endpoints, on=\"acid\")\n",
    "cell = cell.join(cell_assay, on=\"aid\").select(col_order)\n",
    "\n",
    "# separate primary endpoint from viability assays\n",
    "cell_viability = cell.filter(pl.col(\"cell_viability_assay\") == 1)\n",
    "cell_other = cell.filter(pl.col(\"cell_viability_assay\") == 0).filter(pl.col(\"cell_short_name\") != \"NA\")\n",
    "\n",
    "cellfree = cellfree_component.join(cellfree_endpoints, on=\"acid\")\n",
    "cellfree = cellfree.join(cellfree_assay, on=\"aid\").select(col_order)"
   ]
  },
  {
   "cell_type": "markdown",
   "metadata": {},
   "source": [
    "## Get assay hitcall info"
   ]
  },
  {
   "cell_type": "code",
   "execution_count": 70,
   "metadata": {},
   "outputs": [
    {
     "data": {
      "text/plain": [
       "0"
      ]
     },
     "execution_count": 70,
     "metadata": {},
     "output_type": "execute_result"
    }
   ],
   "source": [
    "# Get level 4 data\n",
    "with engine.connect() as connection:\n",
    "    result = connection.execute(text(\"SELECT `m4id`, `spid`, `logc_max`, `logc_min`, `nconc` FROM mc4\"))\n",
    "    column_names = result.keys()\n",
    "    rows = result.fetchall()\n",
    "    rows = [list(row) for row in rows]\n",
    "    exp_info = pl.DataFrame(rows, schema=column_names)\n",
    "\n",
    "    result = connection.execute(text(\"SELECT * FROM sample\"))\n",
    "    column_names = result.keys()\n",
    "    rows = result.fetchall()\n",
    "    rows = [list(row) for row in rows]\n",
    "    dat = pl.DataFrame(rows, schema=column_names).select([\"spid\", \"chid\"])\n",
    "\n",
    "exp_info = exp_info.join(dat, on=\"spid\")\n",
    "del dat\n",
    "gc.collect()"
   ]
  },
  {
   "cell_type": "code",
   "execution_count": 71,
   "metadata": {},
   "outputs": [
    {
     "data": {
      "text/plain": [
       "0"
      ]
     },
     "execution_count": 71,
     "metadata": {},
     "output_type": "execute_result"
    }
   ],
   "source": [
    "# Link m5id to m4id\n",
    "with engine.connect() as connection:\n",
    "    result = connection.execute(text(\"SELECT `m5id`, `m4id` FROM mc5\"))\n",
    "    \n",
    "    column_names = result.keys()\n",
    "    rows = result.fetchall()\n",
    "    rows = [list(row) for row in rows]\n",
    "    m4_m5 = pl.DataFrame(rows, schema=column_names)\n",
    "\n",
    "exp_info = exp_info.join(m4_m5, on=\"m4id\")\n",
    "del m4_m5\n",
    "gc.collect()"
   ]
  },
  {
   "cell_type": "code",
   "execution_count": 72,
   "metadata": {},
   "outputs": [
    {
     "data": {
      "text/plain": [
       "0"
      ]
     },
     "execution_count": 72,
     "metadata": {},
     "output_type": "execute_result"
    }
   ],
   "source": [
    "# Get hitcall and AC50\n",
    "m5id_list = exp_info.select(\"m5id\").to_series().unique().to_list()\n",
    "\n",
    "query = \"\"\"\n",
    "SELECT `m5id`, `hit_val`, `hit_param`, `aeid`\n",
    "FROM mc5_param \n",
    "WHERE hit_param IN ('ac50', 'hitcall') \n",
    "AND m5id IN :m5ids\n",
    "\"\"\"\n",
    "\n",
    "with engine.connect() as connection:\n",
    "    result = connection.execute(text(query), {\"m5ids\": tuple(m5id_list)})\n",
    "    \n",
    "    column_names = result.keys()\n",
    "    rows = result.fetchall()\n",
    "    rows = [list(row) for row in rows]\n",
    "    params = pl.DataFrame(rows, schema=column_names)\n",
    "\n",
    "params = params.pivot(\n",
    "    values=\"hit_val\",\n",
    "    index=[\"m5id\", \"aeid\"],\n",
    "    columns=\"hit_param\"\n",
    ")\n",
    "\n",
    "exp_info = exp_info.join(params, on=\"m5id\")\n",
    "del params\n",
    "gc.collect()"
   ]
  },
  {
   "cell_type": "code",
   "execution_count": 73,
   "metadata": {},
   "outputs": [],
   "source": [
    "# Make table for compounds\n",
    "engine = create_engine(\"mysql+pymysql://root@localhost/prod_internal_invitrodb_v4_1\")\n",
    "\n",
    "with engine.connect() as connection:\n",
    "    result = connection.execute(text(\"SELECT * FROM chemical\"))\n",
    "    column_names = result.keys()\n",
    "    rows = result.fetchall()\n",
    "    rows = [list(row) for row in rows]\n",
    "    chemical = pl.DataFrame(rows, schema=column_names).select([\"chid\", \"dsstox_substance_id\"])\n",
    "\n",
    "exp_info = exp_info.join(chemical, on=\"chid\")\n"
   ]
  },
  {
   "cell_type": "markdown",
   "metadata": {},
   "source": [
    "## Get a cytotox estimate for each chemical + relevant assay "
   ]
  },
  {
   "cell_type": "markdown",
   "metadata": {},
   "source": [
    "We only want to keep assays with matching cytotoxicity estimates. We consider a matching cytotox estimate as a viability assay run with the same chemical in either the same cell line or the same tissue. We count any cytotox hit as a hit - it's possible that viability assays that did not result in a hit tested lower concentration ranges, or a less sensitive viability assay."
   ]
  },
  {
   "cell_type": "code",
   "execution_count": 74,
   "metadata": {},
   "outputs": [],
   "source": [
    "df = cell_viability.select([\"aeid\", \"aid\", \"cell_viability_assay\", \"cell_short_name\", \"tissue\"])\n",
    "df = df.join(exp_info, on=\"aeid\")\n",
    "\n",
    "df = df.with_columns(\n",
    "    (pl.col(\"hitcall\") > 0.9).cast(pl.Int64).alias(\"hitcall\")\n",
    ")\n",
    "\n",
    "result_cell = (\n",
    "    df.group_by([\"chid\", \"cell_short_name\"])\n",
    "    .agg([\n",
    "        pl.count().alias(\"ntested\"),\n",
    "        pl.col(\"hitcall\").sum().alias(\"nhit\"),\n",
    "        pl.col(\"ac50\").filter(pl.col(\"hitcall\") == 1).median().alias(\"cytotox_median_ac50\")\n",
    "    ])\n",
    ")\n",
    "\n",
    "result_tissue = (\n",
    "    df.group_by([\"tissue\", \"chid\"])\n",
    "    .agg([\n",
    "        pl.count().alias(\"ntested\"),\n",
    "        pl.col(\"hitcall\").sum().alias(\"nhit\"),\n",
    "        pl.col(\"ac50\").filter(pl.col(\"hitcall\") == 1).median().alias(\"cytotox_median_ac50\")\n",
    "    ])\n",
    ")\n"
   ]
  },
  {
   "cell_type": "code",
   "execution_count": 75,
   "metadata": {},
   "outputs": [],
   "source": [
    "cell_chid_cytotox = cell_results.select([\"chid\", \"cell_short_name\", \"tissue\"]).unique()\n",
    "\n",
    "cell_cytotox = cell_chid_cytotox.join(\n",
    "    result_cell,\n",
    "    on=[\"chid\", \"cell_short_name\"],\n",
    "    how=\"inner\"\n",
    ").with_columns(\n",
    "    pl.lit(\"cell_short_name\").alias(\"cytotox_source\")\n",
    ")\n",
    "\n",
    "unmatched_df = cell_chid_cytotox.join(\n",
    "    result_cell,\n",
    "    on=[\"chid\", \"cell_short_name\"],\n",
    "    how=\"anti\"\n",
    ")\n",
    "\n",
    "tissue_cytotox = unmatched_df.join(\n",
    "    result_tissue,\n",
    "    on=[\"chid\", \"tissue\"],\n",
    "    how=\"inner\"\n",
    ").with_columns(\n",
    "    pl.lit(\"tissue\").alias(\"cytotox_source\")\n",
    ")\n",
    "\n",
    "cytotox = pl.concat([cell_cytotox, tissue_cytotox], how=\"vertical\").rename({\"ntested\": \"cytotox_ntested\", \"nhit\": \"cytotox_nhit\"})"
   ]
  },
  {
   "cell_type": "markdown",
   "metadata": {},
   "source": [
    "## Create final results info files"
   ]
  },
  {
   "cell_type": "code",
   "execution_count": null,
   "metadata": {},
   "outputs": [],
   "source": [
    "# Get OASIS IDs\n",
    "oasis = pl.read_csv(\"../1_snakemake/inputs/annotations/v5_oasis_03Sept2024_simple.csv\")\n",
    "oasis = oasis.select([\"OASIS_ID\", \"DTXSID\"]).rename({\"DTXSID\": \"dsstox_substance_id\"})"
   ]
  },
  {
   "cell_type": "code",
   "execution_count": 77,
   "metadata": {},
   "outputs": [],
   "source": [
    "# cell-free assays\n",
    "cellfree_results = exp_info.join(cellfree, on=\"aeid\")\n",
    "\n",
    "# add oasis id\n",
    "cellfree_results = cellfree_results.join(oasis, on=\"dsstox_substance_id\")\n",
    "\n",
    "# re-order columns\n",
    "cellfree_results = cellfree_results.select([\n",
    "    \"OASIS_ID\",\n",
    "    \"assay_component_endpoint_name\", \"assay_component_desc\",\n",
    "    \"cell_format\", \"tissue\", \"cell_short_name\", \"timepoint_hr\",\n",
    "    \"assay_design_type\", \"assay_function_type\", \"intended_target_type\", \"intended_target_type_sub\",\n",
    "    \"intended_target_family\", \"intended_target_family_sub\", \"normalized_data_type\", \"signal_direction\",\n",
    "    \"hitcall\", \"ac50\",\n",
    "    \"logc_max\", \"logc_min\", \"nconc\",\n",
    "    \"aid\", \"acid\", \"aeid\", \"chid\", \"m4id\", \"m5id\", \"dsstox_substance_id\"\n",
    "])"
   ]
  },
  {
   "cell_type": "code",
   "execution_count": 78,
   "metadata": {},
   "outputs": [],
   "source": [
    "# cell-based assays\n",
    "cell_results = exp_info.join(cell_other, on=\"aeid\")\n",
    "\n",
    "# add oasis id\n",
    "cell_results = cell_results.join(oasis, on=\"dsstox_substance_id\")\n",
    "\n",
    "# Merge assay info with cytotox estimates\n",
    "cell_results = cell_results.join(cytotox, on=[\"chid\", \"cell_short_name\", \"tissue\"])\n",
    "\n",
    "# Re-order columns\n",
    "cell_results = cell_results.select([\n",
    "    \"OASIS_ID\",\n",
    "    \"assay_component_endpoint_name\", \"assay_component_desc\",\n",
    "    \"cell_format\", \"tissue\", \"cell_short_name\", \"timepoint_hr\",\n",
    "    \"assay_design_type\", \"assay_function_type\", \"intended_target_type\", \"intended_target_type_sub\",\n",
    "    \"intended_target_family\", \"intended_target_family_sub\", \"normalized_data_type\", \"signal_direction\",\n",
    "    \"hitcall\", \"ac50\",\n",
    "    \"cytotox_ntested\", \"cytotox_nhit\", \"cytotox_median_ac50\", \"cytotox_source\",\n",
    "    \"logc_max\", \"logc_min\", \"nconc\",\n",
    "    \"aid\", \"acid\", \"aeid\", \"chid\", \"m4id\", \"m5id\", \"dsstox_substance_id\"\n",
    "])"
   ]
  },
  {
   "cell_type": "code",
   "execution_count": 94,
   "metadata": {},
   "outputs": [],
   "source": [
    "# Process cytotox results for predictions\n",
    "cyto_proc = pl.concat([\n",
    "    result_cell.with_columns(pl.lit(\"cell_type\").alias(\"cytotox_source_type\")).rename({\"cell_short_name\": \"cytotox_source\"}).select(\n",
    "        [\"chid\", \"cytotox_source_type\", \"cytotox_source\", \"ntested\", \"nhit\", \"cytotox_median_ac50\"]),\n",
    "    result_tissue.with_columns(pl.lit(\"tissue\").alias(\"cytotox_source_type\")).rename({\"tissue\": \"cytotox_source\"}).select(\n",
    "        [\"chid\", \"cytotox_source_type\", \"cytotox_source\", \"ntested\", \"nhit\", \"cytotox_median_ac50\"]),\n",
    "], how=\"vertical\")\n",
    "\n",
    "# Create a label\n",
    "cyto_proc = cyto_proc.with_columns(\n",
    "    pl.concat_str([pl.col(\"cytotox_source_type\"), pl.col(\"cytotox_source\").str.replace_all(\" \", \"_\")], separator=\"__\").alias(\"assay_label\")\n",
    ")\n",
    "\n",
    "# To be considered a hit, must be hit in 20% or more of tested instances\n",
    "cyto_proc = cyto_proc.with_columns(\n",
    "    (pl.col(\"nhit\")/pl.col(\"ntested\")).alias(\"percent_hit\")\n",
    ")\n",
    "cyto_proc = cyto_proc.with_columns(\n",
    "    pl.when(pl.col(\"percent_hit\") < 0.2).then(None).otherwise(pl.col(\"cytotox_median_ac50\")).alias(\"cytotox_median_ac50\")\n",
    ")\n",
    "\n",
    "# To be considered a hit, AC50 must be lower than 100um (our highest tested dose)\n",
    "cyto_proc = cyto_proc.with_columns(\n",
    "    pl.when(pl.col(\"cytotox_median_ac50\") > 100).then(None).otherwise(pl.col(\"cytotox_median_ac50\")).alias(\"cytotox_median_ac50\")\n",
    ")\n",
    "\n",
    "# Add OASIS IDs\n",
    "cyto_proc = cyto_proc.join(chemical, on=\"chid\", how=\"inner\")\n",
    "cyto_proc = cyto_proc.join(oasis, on=\"dsstox_substance_id\", how=\"inner\")"
   ]
  },
  {
   "cell_type": "markdown",
   "metadata": {},
   "source": [
    "## Create binary cell-based hit file"
   ]
  },
  {
   "cell_type": "code",
   "execution_count": 340,
   "metadata": {},
   "outputs": [],
   "source": [
    "# Hit: must be 2-fold lower than the cytotox ac50\n",
    "cell_binary = cell_results.select([\n",
    "    \"OASIS_ID\", \"assay_component_endpoint_name\", \"hitcall\", \"ac50\", \"cytotox_median_ac50\"\n",
    "]).with_columns(\n",
    "    (pl.col(\"hitcall\") > 0.9).cast(pl.Int64).alias(\"hitcall\"),\n",
    "    (pl.col(\"cytotox_median_ac50\")).fill_null(999999).alias(\"cytotox_median_ac50\")\n",
    ")\n",
    "\n",
    "cell_binary = cell_binary.with_columns(\n",
    "    pl.when((pl.col(\"cytotox_median_ac50\")/2) < pl.col(\"ac50\"))\n",
    "    .then(pl.lit(0))\n",
    "    .otherwise(pl.col(\"hitcall\"))\n",
    "    .alias(\"corr_hitcall\")\n",
    ")\n",
    "\n",
    "# Sometimes there are multiple results for the same chemical-assay combo. Use majority hitcall as the hitcall. Ties go to no hit.\n",
    "aggregated_df = (\n",
    "    cell_binary.group_by([\"OASIS_ID\", \"assay_component_endpoint_name\"])\n",
    "    .agg([\n",
    "        (\n",
    "            (pl.col(\"corr_hitcall\").sum() > (pl.count() // 2))\n",
    "            .cast(pl.Int64)\n",
    "            .alias(\"corr_hitcall\")\n",
    "        )\n",
    "    ])\n",
    ")\n",
    "cell_binary = cell_binary.select([\"OASIS_ID\", \"assay_component_endpoint_name\"]).unique()\n",
    "cell_binary = cell_binary.join(aggregated_df, on=[\"OASIS_ID\", \"assay_component_endpoint_name\"])\n",
    "\n",
    "# pivot to one column per assay\n",
    "cell_binary = cell_binary.pivot(\n",
    "    values=\"corr_hitcall\",\n",
    "    index=\"OASIS_ID\",\n",
    "    columns=\"assay_component_endpoint_name\",\n",
    ")\n",
    "\n",
    "# only keep assays with at least 5 positive and 5 negative classes\n",
    "def has_min_zeros_and_ones(col):\n",
    "    return (col == 0).sum() >= 5 and (col == 1).sum() >= 5\n",
    "\n",
    "cell_binary = cell_binary.select(\n",
    "    [\"OASIS_ID\"] + [\n",
    "        col for col in cell_binary.columns if col != \"OASIS_ID\" and has_min_zeros_and_ones(cell_binary[col])\n",
    "    ]\n",
    ")\n",
    "\n",
    "cell_assays = [i for i in cell_binary.columns if \"OASIS_ID\" not in i]"
   ]
  },
  {
   "cell_type": "markdown",
   "metadata": {},
   "source": [
    "## Create binary cell-free hit file"
   ]
  },
  {
   "cell_type": "code",
   "execution_count": 341,
   "metadata": {},
   "outputs": [],
   "source": [
    "cellfree_binary = cellfree_results.with_columns(\n",
    "    (pl.col(\"hitcall\") > 0.9).cast(pl.Int64).alias(\"hitcall\")\n",
    ").select([\"OASIS_ID\", \"assay_component_endpoint_name\", \"hitcall\"])\n",
    "\n",
    "# Sometimes there are multiple results for the same chemical-assay combo. Use majority hitcall as the hitcall. Ties go to no hit.\n",
    "aggregated_df = (\n",
    "    cellfree_binary.group_by([\"OASIS_ID\", \"assay_component_endpoint_name\"])\n",
    "    .agg([\n",
    "        (\n",
    "            (pl.col(\"hitcall\").sum() > (pl.count() // 2))\n",
    "            .cast(pl.Int64)\n",
    "            .alias(\"hitcall\")\n",
    "        )\n",
    "    ])\n",
    ")\n",
    "cellfree_binary = cellfree_binary.drop([\"hitcall\"]).unique()\n",
    "cellfree_binary = cellfree_binary.join(aggregated_df, on=[\"OASIS_ID\", \"assay_component_endpoint_name\"])\n",
    "\n",
    "# pivot to one column per assay\n",
    "cellfree_binary = cellfree_binary.pivot(\n",
    "    values=\"hitcall\",\n",
    "    index=\"OASIS_ID\",\n",
    "    columns=\"assay_component_endpoint_name\",\n",
    ")\n",
    "\n",
    "# only keep assays with at least 5 positive and 5 negative classes\n",
    "def has_min_zeros_and_ones(col):\n",
    "    return (col == 0).sum() >= 5 and (col == 1).sum() >= 5\n",
    "\n",
    "cellfree_binary = cellfree_binary.select(\n",
    "    [\"OASIS_ID\"] + [\n",
    "        col for col in cellfree_binary.columns if col != \"OASIS_ID\" and has_min_zeros_and_ones(cellfree_binary[col])\n",
    "    ]\n",
    ")\n",
    "\n",
    "cellfree_assays = [i for i in cellfree_binary.columns if \"OASIS_ID\" not in i]"
   ]
  },
  {
   "cell_type": "code",
   "execution_count": 97,
   "metadata": {},
   "outputs": [
    {
     "name": "stdout",
     "output_type": "stream",
     "text": [
      "['chid', 'cytotox_source_type', 'cytotox_source', 'ntested', 'nhit', 'cytotox_median_ac50', 'assay_label', 'percent_hit', 'dsstox_substance_id', 'OASIS_ID']\n"
     ]
    }
   ],
   "source": [
    "print(cyto_proc.columns)"
   ]
  },
  {
   "cell_type": "markdown",
   "metadata": {},
   "source": [
    "## Create binary cytotox file"
   ]
  },
  {
   "cell_type": "code",
   "execution_count": 102,
   "metadata": {},
   "outputs": [],
   "source": [
    "cytotox_binary = cyto_proc.with_columns(\n",
    "    pl.when(pl.col(\"cytotox_median_ac50\").is_not_null()).then(pl.lit(1)).otherwise(pl.lit(0)).alias(\"hitcall\")\n",
    ").select([\"OASIS_ID\", \"assay_label\", \"hitcall\"])\n",
    "\n",
    "# Sometimes there are multiple results for the same chemical-assay combo. Use majority hitcall as the hitcall. Ties go to no hit.\n",
    "aggregated_df = (\n",
    "    cytotox_binary.group_by([\"OASIS_ID\", \"assay_label\"])\n",
    "    .agg([\n",
    "        (\n",
    "            (pl.col(\"hitcall\").sum() > (pl.count() // 2))\n",
    "            .cast(pl.Int64)\n",
    "            .alias(\"hitcall\")\n",
    "        )\n",
    "    ])\n",
    ")\n",
    "cytotox_binary = cytotox_binary.drop([\"hitcall\"]).unique()\n",
    "cytotox_binary = cytotox_binary.join(aggregated_df, on=[\"OASIS_ID\", \"assay_label\"])\n",
    "\n",
    "# pivot to one column per assay\n",
    "cytotox_binary = cytotox_binary.pivot(\n",
    "    values=\"hitcall\",\n",
    "    index=\"OASIS_ID\",\n",
    "    columns=\"assay_label\",\n",
    ")\n",
    "\n",
    "# only keep assays with at least 5 positive and 5 negative classes\n",
    "def has_min_zeros_and_ones(col):\n",
    "    return (col == 0).sum() >= 5 and (col == 1).sum() >= 5\n",
    "\n",
    "cytotox_binary = cytotox_binary.select(\n",
    "    [\"OASIS_ID\"] + [\n",
    "        col for col in cytotox_binary.columns if col != \"OASIS_ID\" and has_min_zeros_and_ones(cytotox_binary[col])\n",
    "    ]\n",
    ")"
   ]
  },
  {
   "cell_type": "markdown",
   "metadata": {},
   "source": [
    "## Write out all files"
   ]
  },
  {
   "cell_type": "code",
   "execution_count": null,
   "metadata": {},
   "outputs": [],
   "source": [
    "cell_binary.write_parquet(\"../1_snakemake/inputs/annotations/toxcast_cellbased_binary.parquet\")\n",
    "cellfree_binary.write_parquet(\"../1_snakemake/inputs/annotations/toxcast_cellfree_binary.parquet\")\n",
    "cytotox_binary.write_parquet(\"../1_snakemake/inputs/annotations/toxcast_cytotox_binary.parquet\")\n",
    "\n",
    "cell_results.filter(pl.col(\"assay_component_endpoint_name\").is_in(cell_assays)).write_parquet(\"../1_snakemake/inputs/annotations/toxcast_cellbased_info.parquet\")\n",
    "cellfree_results.filter(pl.col(\"assay_component_endpoint_name\").is_in(cellfree_assays)).write_parquet(\"../1_snakemake/inputs/annotations/toxcast_cellfree_info.parquet\")\n",
    "cyto_proc.write_parquet(\"../1_snakemake/inputs/annotations/toxcast_cytotox_info.parquet\")"
   ]
  }
 ],
 "metadata": {
  "kernelspec": {
   "display_name": "axiom",
   "language": "python",
   "name": "python3"
  },
  "language_info": {
   "codemirror_mode": {
    "name": "ipython",
    "version": 3
   },
   "file_extension": ".py",
   "mimetype": "text/x-python",
   "name": "python",
   "nbconvert_exporter": "python",
   "pygments_lexer": "ipython3",
   "version": "3.9.19"
  }
 },
 "nbformat": 4,
 "nbformat_minor": 2
}
