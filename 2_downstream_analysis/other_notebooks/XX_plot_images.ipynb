{
 "cells": [
  {
   "cell_type": "markdown",
   "metadata": {},
   "source": [
    "# Plot images\n",
    "\n",
    "Query img files by plate and site, then download TIFF, combine channels, and visualize"
   ]
  },
  {
   "cell_type": "code",
   "execution_count": 1,
   "metadata": {},
   "outputs": [],
   "source": [
    "import polars as pl\n",
    "import numpy as np\n",
    "import os\n",
    "import matplotlib.pyplot as plt\n",
    "from PIL import Image\n",
    "from sh import aws"
   ]
  },
  {
   "cell_type": "code",
   "execution_count": 2,
   "metadata": {},
   "outputs": [],
   "source": [
    "index_path = \"../1_snakemake/inputs/images/index.parquet\"\n",
    "meta_path = \"../1_snakemake/inputs/metadata/metadata.parquet\"\n",
    "tiff_dir = \"../1_snakemake/inputs/images/tiff\"\n",
    "png_dir = \"../1_snakemake/inputs/images/png\"\n",
    "aws_img_path = \"s3://cellpainting-gallery/cpg0037-oasis/axiom/images\"\n",
    "\n",
    "index = pl.read_parquet(index_path)\n",
    "meta = pl.read_parquet(meta_path)\n",
    "\n",
    "index = index.join(meta, on=[\"Metadata_Plate\", \"Metadata_Well\"])"
   ]
  },
  {
   "cell_type": "code",
   "execution_count": 3,
   "metadata": {},
   "outputs": [],
   "source": [
    "import numpy as np\n",
    "\n",
    "def normalize(channel):\n",
    "    print(channel.min())\n",
    "    print(channel.max())\n",
    "    return (channel - channel.min()) / (channel.max() - channel.min())\n",
    "\n",
    "def normalize_quantile(channel):\n",
    "    p99 = np.percentile(channel, 99.9)\n",
    "    print(p99)\n",
    "    return channel / p99\n",
    "\n",
    "def normalize_channel(channel, channel_nm):\n",
    "    if channel_nm == \"DNA\":\n",
    "        p99 = 11000\n",
    "    elif channel_nm == \"ER\":\n",
    "        p99 = 13000\n",
    "    elif channel_nm == \"AGP\":\n",
    "        p99 = 8000\n",
    "    elif channel_nm == \"RNA\":\n",
    "        p99 = 7000\n",
    "    elif channel_nm == \"Mito\":\n",
    "        p99 = 11000\n",
    "\n",
    "    return channel / p99"
   ]
  },
  {
   "cell_type": "code",
   "execution_count": 4,
   "metadata": {},
   "outputs": [],
   "source": [
    "def get_tiffs(plate: str, well: str, site: int, batch: str, png_dir: str) -> list:\n",
    "    png_path = f\"{png_dir}/{plate}_{well}_{site}.png\"\n",
    "    \n",
    "    channels = [\"DNA\", \"ER\", \"AGP\", \"RNA\", \"Mito\"]\n",
    "    img_path = f\"{tiff_dir}/{batch}/{plate}\"\n",
    "    tiffs = []\n",
    "\n",
    "    for channel in channels:\n",
    "        img_nm = (plot.filter(pl.col(\"Metadata_Plate\") == plate)\n",
    "                    .filter(pl.col(\"Metadata_Well\") == well)\n",
    "                    .filter(pl.col(\"Metadata_Site\") == site)\n",
    "                    .filter(pl.col(\"Channel\") == channel)\n",
    "        ).select(\"Filename\").item()\n",
    "\n",
    "        tiff_path = f\"{img_path}/{img_nm}\"\n",
    "\n",
    "        if not os.path.exists(tiff_path):\n",
    "            print(f\"Downloading: {img_nm}\")\n",
    "            aws_img = f\"{aws_img_path}/{batch}/images/{plate}/{img_nm}\"\n",
    "            aws(\"s3\", \"cp\", aws_img, tiff_path)\n",
    "\n",
    "        img = np.array(Image.open(tiff_path))\n",
    "        tiffs.append(normalize_channel(img, channel))   \n",
    "\n",
    "    return tiffs"
   ]
  },
  {
   "cell_type": "code",
   "execution_count": 5,
   "metadata": {},
   "outputs": [],
   "source": [
    "from matplotlib.gridspec import GridSpec\n",
    "\n",
    "def plot_tiffs(tiffs: list, png_path: str) -> None:\n",
    "    rgb_image = np.zeros((tiffs[0].shape[0], tiffs[0].shape[1], 3))\n",
    "\n",
    "    rgb_image[:, :, 0] = tiffs[4] + tiffs[2] + tiffs[3]  # Red component (for red, yellow, and purple)\n",
    "    rgb_image[:, :, 1] = tiffs[1] + tiffs[2]  # Green component (for green and yellow)\n",
    "    rgb_image[:, :, 2] = tiffs[0] + tiffs[3]  # Blue component (for blue and purple)\n",
    "\n",
    "    rgb_image = np.clip(rgb_image, 0, 1)\n",
    "\n",
    "    # Create a grid layout with GridSpec\n",
    "    fig = plt.figure(figsize=(10, 12))\n",
    "    gs = GridSpec(2, 5, height_ratios=[1, 4], hspace=0.01, wspace=0.01)\n",
    "\n",
    "    # First row: Horizontal strip of smaller channel images\n",
    "    channels = [\"DNA\", \"ER\", \"AGP\", \"RNA\", \"Mito\"]\n",
    "\n",
    "    for i, (channel, title) in enumerate(zip(tiffs, channels)):\n",
    "        ax = fig.add_subplot(gs[0, i])  # Place in the first row, ith column\n",
    "        ax.imshow(channel, cmap=\"gray\")\n",
    "        ax.set_title(title, fontsize=10)\n",
    "        ax.axis(\"off\")\n",
    "\n",
    "    # Second row: Combined RGB image\n",
    "    ax_combined = fig.add_subplot(gs[1, :])  # Span all columns in the second row\n",
    "    ax_combined.imshow(rgb_image)\n",
    "    ax_combined.axis(\"off\")\n",
    "\n",
    "    plt.subplots_adjust(left=0.02, right=0.98, top=0.98, bottom=0.02)\n",
    "\n",
    "    # Save the figure\n",
    "    plt.savefig(png_path, dpi=300, bbox_inches=\"tight\", pad_inches=0)\n",
    "    plt.show()"
   ]
  },
  {
   "cell_type": "markdown",
   "metadata": {},
   "source": [
    "## AR agonists and antagonists"
   ]
  },
  {
   "cell_type": "code",
   "execution_count": 6,
   "metadata": {},
   "outputs": [],
   "source": [
    "strong_ag = [\"OASIS1137\", \"OASIS1302\", \"OASIS1280\", \"OASIS1381\", \"OASIS1509\", \"OASIS1313\", \"OASIS1933\"]\n",
    "strong_antag = [\"OASIS419\", \"OASIS1502\", \"OASIS940\", \"OASIS1098\", \"OASIS379\", \"OASIS1488\", \"OASIS794\"]"
   ]
  },
  {
   "cell_type": "code",
   "execution_count": 7,
   "metadata": {},
   "outputs": [],
   "source": [
    "ag_meta = meta.filter(pl.col(\"Metadata_OASIS_ID\").is_in(strong_ag)).filter(pl.col(\"Metadata_Concentration\") == 100)\n",
    "antag_meta = meta.filter(pl.col(\"Metadata_OASIS_ID\").is_in(strong_antag)).filter(pl.col(\"Metadata_Concentration\") == 100)"
   ]
  },
  {
   "cell_type": "code",
   "execution_count": 25,
   "metadata": {},
   "outputs": [
    {
     "data": {
      "text/html": [
       "<div><style>\n",
       ".dataframe > thead > tr,\n",
       ".dataframe > tbody > tr {\n",
       "  text-align: right;\n",
       "  white-space: pre-wrap;\n",
       "}\n",
       "</style>\n",
       "<small>shape: (5, 28)</small><table border=\"1\" class=\"dataframe\"><thead><tr><th>Metadata_Batch</th><th>Metadata_Plate</th><th>Metadata_Well</th><th>Metadata_Site</th><th>Channel</th><th>Filename</th><th>Metadata_well_id</th><th>Metadata_source</th><th>Metadata_Concentration</th><th>Metadata_Compound</th><th>Metadata_compound_target</th><th>Metadata_compound_pathway</th><th>Metadata_compound_research_area</th><th>Metadata_compound_clinical_information</th><th>Metadata_row</th><th>Metadata_col</th><th>Metadata_mtt_lumi</th><th>Metadata_ldh_abs_signal</th><th>Metadata_ldh_abs_background</th><th>Metadata_ldh_abs</th><th>Metadata_mtt_normalized</th><th>Metadata_ldh_normalized</th><th>Metadata_mtt_ridge_norm</th><th>Metadata_ldh_ridge_norm</th><th>Metadata_OASIS_ID</th><th>Metadata_Perturbation</th><th>Metadata_Log10Conc</th><th>Metadata_Count_Cells</th></tr><tr><td>str</td><td>str</td><td>str</td><td>i64</td><td>str</td><td>str</td><td>str</td><td>str</td><td>f64</td><td>str</td><td>str</td><td>str</td><td>str</td><td>str</td><td>i64</td><td>i64</td><td>f64</td><td>f64</td><td>f64</td><td>f64</td><td>f64</td><td>f64</td><td>f64</td><td>f64</td><td>str</td><td>str</td><td>f64</td><td>u32</td></tr></thead><tbody><tr><td>&quot;prod_26&quot;</td><td>&quot;plate_41002877&quot;</td><td>&quot;F09&quot;</td><td>1</td><td>&quot;Brightfield&quot;</td><td>&quot;r06c09f01p01-ch6sk1fk1fl1.tiff&quot;</td><td>&quot;assayworks_prod_26_p=plate_410…</td><td>&quot;assayworks_prod_26&quot;</td><td>100.0</td><td>&quot;Ketoconazole&quot;</td><td>&quot;Bacterial; Cytochrome P450; Fu…</td><td>&quot;Anti-infection; GPCR/G Protein…</td><td>&quot;Infection; Cancer&quot;</td><td>&quot;Launched&quot;</td><td>5</td><td>8</td><td>12720.0</td><td>0.52</td><td>0.018</td><td>0.502</td><td>0.213182</td><td>0.064998</td><td>0.225204</td><td>0.157301</td><td>&quot;OASIS004&quot;</td><td>&quot;Ketoconazole_100.0&quot;</td><td>3.817746</td><td>499</td></tr><tr><td>&quot;prod_26&quot;</td><td>&quot;plate_41002877&quot;</td><td>&quot;F09&quot;</td><td>2</td><td>&quot;Brightfield&quot;</td><td>&quot;r06c09f02p01-ch6sk1fk1fl1.tiff&quot;</td><td>&quot;assayworks_prod_26_p=plate_410…</td><td>&quot;assayworks_prod_26&quot;</td><td>100.0</td><td>&quot;Ketoconazole&quot;</td><td>&quot;Bacterial; Cytochrome P450; Fu…</td><td>&quot;Anti-infection; GPCR/G Protein…</td><td>&quot;Infection; Cancer&quot;</td><td>&quot;Launched&quot;</td><td>5</td><td>8</td><td>12720.0</td><td>0.52</td><td>0.018</td><td>0.502</td><td>0.213182</td><td>0.064998</td><td>0.225204</td><td>0.157301</td><td>&quot;OASIS004&quot;</td><td>&quot;Ketoconazole_100.0&quot;</td><td>3.817746</td><td>499</td></tr><tr><td>&quot;prod_26&quot;</td><td>&quot;plate_41002877&quot;</td><td>&quot;F09&quot;</td><td>3</td><td>&quot;Brightfield&quot;</td><td>&quot;r06c09f03p01-ch6sk1fk1fl1.tiff&quot;</td><td>&quot;assayworks_prod_26_p=plate_410…</td><td>&quot;assayworks_prod_26&quot;</td><td>100.0</td><td>&quot;Ketoconazole&quot;</td><td>&quot;Bacterial; Cytochrome P450; Fu…</td><td>&quot;Anti-infection; GPCR/G Protein…</td><td>&quot;Infection; Cancer&quot;</td><td>&quot;Launched&quot;</td><td>5</td><td>8</td><td>12720.0</td><td>0.52</td><td>0.018</td><td>0.502</td><td>0.213182</td><td>0.064998</td><td>0.225204</td><td>0.157301</td><td>&quot;OASIS004&quot;</td><td>&quot;Ketoconazole_100.0&quot;</td><td>3.817746</td><td>499</td></tr><tr><td>&quot;prod_26&quot;</td><td>&quot;plate_41002877&quot;</td><td>&quot;F09&quot;</td><td>4</td><td>&quot;Brightfield&quot;</td><td>&quot;r06c09f04p01-ch6sk1fk1fl1.tiff&quot;</td><td>&quot;assayworks_prod_26_p=plate_410…</td><td>&quot;assayworks_prod_26&quot;</td><td>100.0</td><td>&quot;Ketoconazole&quot;</td><td>&quot;Bacterial; Cytochrome P450; Fu…</td><td>&quot;Anti-infection; GPCR/G Protein…</td><td>&quot;Infection; Cancer&quot;</td><td>&quot;Launched&quot;</td><td>5</td><td>8</td><td>12720.0</td><td>0.52</td><td>0.018</td><td>0.502</td><td>0.213182</td><td>0.064998</td><td>0.225204</td><td>0.157301</td><td>&quot;OASIS004&quot;</td><td>&quot;Ketoconazole_100.0&quot;</td><td>3.817746</td><td>499</td></tr><tr><td>&quot;prod_26&quot;</td><td>&quot;plate_41002877&quot;</td><td>&quot;F09&quot;</td><td>5</td><td>&quot;Brightfield&quot;</td><td>&quot;r06c09f05p01-ch6sk1fk1fl1.tiff&quot;</td><td>&quot;assayworks_prod_26_p=plate_410…</td><td>&quot;assayworks_prod_26&quot;</td><td>100.0</td><td>&quot;Ketoconazole&quot;</td><td>&quot;Bacterial; Cytochrome P450; Fu…</td><td>&quot;Anti-infection; GPCR/G Protein…</td><td>&quot;Infection; Cancer&quot;</td><td>&quot;Launched&quot;</td><td>5</td><td>8</td><td>12720.0</td><td>0.52</td><td>0.018</td><td>0.502</td><td>0.213182</td><td>0.064998</td><td>0.225204</td><td>0.157301</td><td>&quot;OASIS004&quot;</td><td>&quot;Ketoconazole_100.0&quot;</td><td>3.817746</td><td>499</td></tr></tbody></table></div>"
      ],
      "text/plain": [
       "shape: (5, 28)\n",
       "┌───────────┬───────────┬───────────┬───────────┬───┬───────────┬───────────┬───────────┬──────────┐\n",
       "│ Metadata_ ┆ Metadata_ ┆ Metadata_ ┆ Metadata_ ┆ … ┆ Metadata_ ┆ Metadata_ ┆ Metadata_ ┆ Metadata │\n",
       "│ Batch     ┆ Plate     ┆ Well      ┆ Site      ┆   ┆ OASIS_ID  ┆ Perturbat ┆ Log10Conc ┆ _Count_C │\n",
       "│ ---       ┆ ---       ┆ ---       ┆ ---       ┆   ┆ ---       ┆ ion       ┆ ---       ┆ ells     │\n",
       "│ str       ┆ str       ┆ str       ┆ i64       ┆   ┆ str       ┆ ---       ┆ f64       ┆ ---      │\n",
       "│           ┆           ┆           ┆           ┆   ┆           ┆ str       ┆           ┆ u32      │\n",
       "╞═══════════╪═══════════╪═══════════╪═══════════╪═══╪═══════════╪═══════════╪═══════════╪══════════╡\n",
       "│ prod_26   ┆ plate_410 ┆ F09       ┆ 1         ┆ … ┆ OASIS004  ┆ Ketoconaz ┆ 3.817746  ┆ 499      │\n",
       "│           ┆ 02877     ┆           ┆           ┆   ┆           ┆ ole_100.0 ┆           ┆          │\n",
       "│ prod_26   ┆ plate_410 ┆ F09       ┆ 2         ┆ … ┆ OASIS004  ┆ Ketoconaz ┆ 3.817746  ┆ 499      │\n",
       "│           ┆ 02877     ┆           ┆           ┆   ┆           ┆ ole_100.0 ┆           ┆          │\n",
       "│ prod_26   ┆ plate_410 ┆ F09       ┆ 3         ┆ … ┆ OASIS004  ┆ Ketoconaz ┆ 3.817746  ┆ 499      │\n",
       "│           ┆ 02877     ┆           ┆           ┆   ┆           ┆ ole_100.0 ┆           ┆          │\n",
       "│ prod_26   ┆ plate_410 ┆ F09       ┆ 4         ┆ … ┆ OASIS004  ┆ Ketoconaz ┆ 3.817746  ┆ 499      │\n",
       "│           ┆ 02877     ┆           ┆           ┆   ┆           ┆ ole_100.0 ┆           ┆          │\n",
       "│ prod_26   ┆ plate_410 ┆ F09       ┆ 5         ┆ … ┆ OASIS004  ┆ Ketoconaz ┆ 3.817746  ┆ 499      │\n",
       "│           ┆ 02877     ┆           ┆           ┆   ┆           ┆ ole_100.0 ┆           ┆          │\n",
       "└───────────┴───────────┴───────────┴───────────┴───┴───────────┴───────────┴───────────┴──────────┘"
      ]
     },
     "execution_count": 25,
     "metadata": {},
     "output_type": "execute_result"
    }
   ],
   "source": [
    "# From this, define image metadata\n",
    "plate = \"plate_41002877\"\n",
    "well = \"F09\"\n",
    "site = 6\n",
    "\n",
    "plot = (index.filter(pl.col(\"Metadata_Plate\") == plate)\n",
    "             .filter(pl.col(\"Metadata_Well\") == well))\n",
    "plot.head()"
   ]
  },
  {
   "cell_type": "code",
   "execution_count": null,
   "metadata": {},
   "outputs": [],
   "source": [
    "\n",
    "batch = \"prod_26\"\n",
    "png_path = f\"{png_dir}/{plate}_{well}_{site}.png\"\n",
    "\n",
    "tiffs = get_tiffs(plate, well, site, batch, tiff_dir)\n",
    "plot_tiffs(tiffs, png_path)"
   ]
  },
  {
   "cell_type": "code",
   "execution_count": 36,
   "metadata": {},
   "outputs": [],
   "source": [
    "dmso = ['DMSO_0.0_H22_plate_41002948',\n",
    "        'DMSO_0.0_H11_plate_41002882',\n",
    "        'DMSO_0.0_H24_plate_41002890',\n",
    "        'DMSO_0.0_P11_plate_41002908',\n",
    "        'DMSO_0.0_F04_plate_41002959',\n",
    "        'DMSO_0.0_A20_plate_41002879',\n",
    "        'DMSO_0.0_M04_plate_41002877',\n",
    "        'DMSO_0.0_H10_plate_41002947',\n",
    "        'DMSO_0.0_H02_plate_41002692',\n",
    "        'DMSO_0.0_C04_plate_41002959']\n",
    "\n",
    "higher = ['Enzalutamide_3.82_M11_plate_41002897',\n",
    "        'Temsirolimus_1.43_A01_plate_41002900',\n",
    "        'Benzethonium (chloride)_2.86_L22_plate_41002905',\n",
    "        'Ximelagatran_3.82_A19_plate_41002878',\n",
    "        'Alfacalcidol_3.82_O23_plate_41002877',\n",
    "        'Puromycin aminonucleoside_3.34_M06_plate_41002892',\n",
    "        'Hycanthone_3.34_G16_plate_41002957',\n",
    "        'Alectinib (Hydrochloride)_3.34_K07_plate_41002956',\n",
    "        'Rilpivirine_3.82_B17_plate_41002896',\n",
    "        'Fesoterodine_3.82_A13_plate_41002878']\n",
    "\n",
    "lower = ['Nevirapine_3.34_N14_plate_41002956',\n",
    "        'Capsaicin_3.34_P14_plate_41002701',\n",
    "        'Ezetimibe_3.82_J18_plate_41002946',\n",
    "        'Melatonin_3.82_D16_plate_41002692',\n",
    "        'Safinamide (mesylate)_3.82_L13_plate_41002693',\n",
    "        'Atenolol_2.86_G22_plate_41002951',\n",
    "        '2,7-Dihydroxynaphthalene_3.82_M09_plate_41002877',\n",
    "        'Linagliptin_2.86_J02_plate_41002904',\n",
    "        'Alpidem_3.82_O17_plate_41002877',\n",
    "        '5-Azacytidine_2.86_I02_plate_41002951']"
   ]
  },
  {
   "cell_type": "code",
   "execution_count": null,
   "metadata": {},
   "outputs": [],
   "source": [
    "for pert in dmso:\n",
    "    well = pert.split(\"_\")[2]\n",
    "    plate = pert.split(\"_\")[4]\n",
    "\n",
    "    plot = (index.filter(pl.col(\"Metadata_Plate\").str.contains(plate))\n",
    "             .filter(pl.col(\"Metadata_Well\") == well))\n",
    "    \n",
    "    batch = plot.select(pl.col(\"Metadata_Batch\")).to_series().to_list()[0]\n",
    "    plate = plot.select(pl.col(\"Metadata_Plate\")).to_series().to_list()[0]\n",
    "    site = 6\n",
    "\n",
    "    png_path = f\"{png_dir}/dmso/{plate}_{well}_{site}.png\"\n",
    "\n",
    "    tiffs = get_tiffs(plate, well, site, batch, tiff_dir)\n",
    "    plot_tiffs(tiffs, png_path)"
   ]
  },
  {
   "cell_type": "code",
   "execution_count": null,
   "metadata": {},
   "outputs": [],
   "source": [
    "for row in antag_meta.iter_rows(named=True): \n",
    "    well = row[\"Metadata_Well\"]\n",
    "    plate = row[\"Metadata_Plate\"]\n",
    "    batch = row[\"Metadata_source\"]\n",
    "    batch = batch.replace(\"assayworks_\", \"\")\n",
    "    exp = row[\"Metadata_Compound\"]\n",
    "\n",
    "    site = 6\n",
    "\n",
    "    plot = (index.filter(pl.col(\"Metadata_Plate\").str.contains(plate))\n",
    "            .filter(pl.col(\"Metadata_Well\") == well))\n",
    "\n",
    "    png_path = f\"{png_dir}/AR_antagonist/{plate}_{well}_{site}_{exp}.png\"\n",
    "\n",
    "    tiffs = get_tiffs(plate, well, site, batch, tiff_dir)\n",
    "    plot_tiffs(tiffs, png_path)"
   ]
  },
  {
   "cell_type": "markdown",
   "metadata": {},
   "source": [
    "## Cell count increases"
   ]
  },
  {
   "cell_type": "code",
   "execution_count": 10,
   "metadata": {},
   "outputs": [],
   "source": [
    "cmpds = [\"Baloxavir marboxil\", \"Ceritinib\", \"Alectinib (Hydrochloride)\"]\n",
    "concs = [100, 20]\n",
    "\n",
    "cc_meta = meta.filter(pl.col(\"Metadata_Compound\").is_in(cmpds)).filter(pl.col(\"Metadata_Concentration\").is_in(concs))"
   ]
  },
  {
   "cell_type": "code",
   "execution_count": null,
   "metadata": {},
   "outputs": [],
   "source": [
    "for row in cc_meta.iter_rows(named=True):\n",
    "    well = row[\"Metadata_Well\"]\n",
    "    plate = row[\"Metadata_Plate\"]\n",
    "    batch = row[\"Metadata_source\"]\n",
    "    batch = batch.replace(\"assayworks_\", \"\")\n",
    "    exp = row[\"Metadata_Compound\"]\n",
    "\n",
    "    site = 6\n",
    "\n",
    "    plot = (index.filter(pl.col(\"Metadata_Plate\").str.contains(plate))\n",
    "            .filter(pl.col(\"Metadata_Well\") == well))\n",
    "\n",
    "    png_path = f\"{png_dir}/cc_increase/{plate}_{well}_{site}_{exp}.png\"\n",
    "\n",
    "    tiffs = get_tiffs(plate, well, site, batch, tiff_dir)\n",
    "    plot_tiffs(tiffs, png_path)"
   ]
  },
  {
   "cell_type": "markdown",
   "metadata": {},
   "source": [
    "## Alectinib (crazy phenotype of firework nuclei)"
   ]
  },
  {
   "cell_type": "code",
   "execution_count": null,
   "metadata": {},
   "outputs": [],
   "source": [
    "alectinib_meta = meta.filter(pl.col(\"Metadata_Compound\") == \"Alectinib (Hydrochloride)\")\n",
    "\n",
    "for row in alectinib_meta.iter_rows(named=True):\n",
    "    well = row[\"Metadata_Well\"]\n",
    "    plate = row[\"Metadata_Plate\"]\n",
    "    batch = row[\"Metadata_source\"]\n",
    "    batch = batch.replace(\"assayworks_\", \"\")\n",
    "    exp = row[\"Metadata_Compound\"]\n",
    "    conc = row[\"Metadata_Concentration\"]\n",
    "    conc = float(f\"{conc:.1g}\")\n",
    "\n",
    "    site = 6\n",
    "\n",
    "    plot = (index.filter(pl.col(\"Metadata_Plate\").str.contains(plate))\n",
    "            .filter(pl.col(\"Metadata_Well\") == well))\n",
    "\n",
    "    png_path = f\"{png_dir}/alectinib/{plate}_{well}_{site}_{conc}_{exp}.png\"\n",
    "\n",
    "    tiffs = get_tiffs(plate, well, site, batch, tiff_dir)\n",
    "    plot_tiffs(tiffs, png_path)"
   ]
  },
  {
   "cell_type": "markdown",
   "metadata": {},
   "source": [
    "We see the fragmented nuclei at both of the highest dose (20.0) and one of the two second-highest (7.0). A few very small DNA fragments at the third highest (2.0)."
   ]
  },
  {
   "cell_type": "code",
   "execution_count": 6,
   "metadata": {},
   "outputs": [],
   "source": [
    "cmpd_meta = meta.filter(pl.col(\"Metadata_Compound\") == \"Colchicine\")\n",
    "\n",
    "for row in cmpd_meta.iter_rows(named=True):\n",
    "    well = row[\"Metadata_Well\"]\n",
    "    plate = row[\"Metadata_Plate\"]\n",
    "    batch = row[\"Metadata_source\"]\n",
    "    batch = batch.replace(\"assayworks_\", \"\")\n",
    "    exp = row[\"Metadata_Compound\"]\n",
    "    conc = row[\"Metadata_Concentration\"]\n",
    "    conc = float(f\"{conc:.1g}\")\n",
    "\n",
    "    site = 6\n",
    "\n",
    "    plot = (index.filter(pl.col(\"Metadata_Plate\").str.contains(plate))\n",
    "            .filter(pl.col(\"Metadata_Well\") == well))\n",
    "\n",
    "    png_path = f\"{png_dir}/colchicine/{exp}_{conc}_{well}_{plate}_{site}.png\"\n",
    "\n",
    "    tiffs = get_tiffs(plate, well, site, batch, tiff_dir)\n",
    "    plot_tiffs(tiffs, png_path)"
   ]
  }
 ],
 "metadata": {
  "kernelspec": {
   "display_name": "axiom",
   "language": "python",
   "name": "python3"
  },
  "language_info": {
   "codemirror_mode": {
    "name": "ipython",
    "version": 3
   },
   "file_extension": ".py",
   "mimetype": "text/x-python",
   "name": "python",
   "nbconvert_exporter": "python",
   "pygments_lexer": "ipython3",
   "version": "3.9.19"
  }
 },
 "nbformat": 4,
 "nbformat_minor": 2
}
